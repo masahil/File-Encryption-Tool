{
 "cells": [
  {
   "cell_type": "code",
   "execution_count": null,
   "metadata": {},
   "outputs": [],
   "source": []
  },
  {
   "cell_type": "code",
   "execution_count": 2,
   "metadata": {},
   "outputs": [
    {
     "name": "stdout",
     "output_type": "stream",
     "text": [
      "File C:/Users/abdul/Desktop/Sem-5/cryptography/cryptography project/encryption.txt encrypted to encrypted.txt\n",
      "File encrypted.txt decrypted to decrypted.txt\n"
     ]
    }
   ],
   "source": [
    "from cryptography.fernet import Fernet\n",
    "\n",
    "# Generate a random key for encryption\n",
    "def generate_key():\n",
    "    return Fernet.generate_key()\n",
    "\n",
    "# Encrypt a file with the given key\n",
    "def encrypt_file(key, input_file_path, output_file_path):\n",
    "    with open(input_file_path, 'rb') as f:\n",
    "        data = f.read()\n",
    "    fernet = Fernet(key)\n",
    "    encrypted_data = fernet.encrypt(data)\n",
    "    with open(output_file_path, 'wb') as f:\n",
    "        f.write(encrypted_data)\n",
    "\n",
    "# Decrypt a file with the given key\n",
    "def decrypt_file(key, input_file_path, output_file_path):\n",
    "    with open(input_file_path, 'rb') as f:\n",
    "        encrypted_data = f.read()\n",
    "    fernet = Fernet(key)\n",
    "    decrypted_data = fernet.decrypt(encrypted_data)\n",
    "    with open(output_file_path, 'wb') as f:\n",
    "        f.write(decrypted_data)\n",
    "\n",
    "# Example usage\n",
    "if __name__ == \"__main__\":\n",
    "    key = generate_key()\n",
    "    input_file = 'C:/Users/abdul/Desktop/Sem-5/cryptography/cryptography project/encryption.txt'\n",
    "    encrypted_file = 'encrypted.txt'\n",
    "    decrypted_file = 'decrypted.txt'\n",
    "\n",
    "    # Encrypt the file\n",
    "    encrypt_file(key, input_file, encrypted_file)\n",
    "    print(f'File {input_file} encrypted to {encrypted_file}')\n",
    "\n",
    "    # Decrypt the file\n",
    "    decrypt_file(key, encrypted_file, decrypted_file)\n",
    "    print(f'File {encrypted_file} decrypted to {decrypted_file}')\n"
   ]
  }
 ],
 "metadata": {
  "kernelspec": {
   "display_name": "Python 3",
   "language": "python",
   "name": "python3"
  },
  "language_info": {
   "codemirror_mode": {
    "name": "ipython",
    "version": 3
   },
   "file_extension": ".py",
   "mimetype": "text/x-python",
   "name": "python",
   "nbconvert_exporter": "python",
   "pygments_lexer": "ipython3",
   "version": "3.9.13"
  },
  "orig_nbformat": 4
 },
 "nbformat": 4,
 "nbformat_minor": 2
}
